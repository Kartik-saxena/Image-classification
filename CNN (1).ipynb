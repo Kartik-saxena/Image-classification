{
 "cells": [
  {
   "cell_type": "code",
   "execution_count": 1,
   "metadata": {},
   "outputs": [],
   "source": [
    "import pandas as pd\n",
    "import numpy as np\n",
    "import matplotlib.pyplot as plt\n",
    "import matplotlib.image as mpli\n",
    "import cv2\n",
    "import os\n",
    "%matplotlib inline"
   ]
  },
  {
   "cell_type": "code",
   "execution_count": 2,
   "metadata": {},
   "outputs": [
    {
     "name": "stderr",
     "output_type": "stream",
     "text": [
      "Using TensorFlow backend.\n"
     ]
    }
   ],
   "source": [
    "import keras\n"
   ]
  },
  {
   "cell_type": "code",
   "execution_count": 3,
   "metadata": {},
   "outputs": [],
   "source": [
    "from sklearn.model_selection import train_test_split\n",
    "\n"
   ]
  },
  {
   "cell_type": "code",
   "execution_count": 4,
   "metadata": {},
   "outputs": [],
   "source": [
    "os.chdir('F:\\Data')"
   ]
  },
  {
   "cell_type": "code",
   "execution_count": 216,
   "metadata": {},
   "outputs": [],
   "source": [
    "def load_images_from_folder(folder):\n",
    "    images = []\n",
    "    y = []\n",
    "    y1 = []\n",
    "    n= -1\n",
    "    for filename in os.listdir(folder):\n",
    "        n = n+1\n",
    "        for imagename in os.listdir(os.path.join(folder,filename)):\n",
    "            \n",
    "            \n",
    "            img = cv2.imread(os.path.join(folder,filename,imagename))\n",
    "            \n",
    "            img = cv2.cvtColor(img, cv2.COLOR_RGB2GRAY)\n",
    "            \n",
    "            if img is not None:\n",
    "                images.append(img)\n",
    "                y.append(filename)\n",
    "                y1.append(n)\n",
    "    return images,y,y1"
   ]
  },
  {
   "cell_type": "code",
   "execution_count": 217,
   "metadata": {},
   "outputs": [],
   "source": [
    "xtrain,ydict,ytrain = load_images_from_folder('Train')\n"
   ]
  },
  {
   "cell_type": "code",
   "execution_count": 164,
   "metadata": {},
   "outputs": [],
   "source": []
  },
  {
   "cell_type": "code",
   "execution_count": 228,
   "metadata": {},
   "outputs": [
    {
     "data": {
      "text/plain": [
       "46"
      ]
     },
     "execution_count": 228,
     "metadata": {},
     "output_type": "execute_result"
    }
   ],
   "source": [
    "len(np.unique(ydict))"
   ]
  },
  {
   "cell_type": "code",
   "execution_count": 229,
   "metadata": {},
   "outputs": [
    {
     "data": {
      "text/plain": [
       "(78200, 32, 32)"
      ]
     },
     "execution_count": 229,
     "metadata": {},
     "output_type": "execute_result"
    }
   ],
   "source": [
    "np.shape(xtrain)"
   ]
  },
  {
   "cell_type": "code",
   "execution_count": 221,
   "metadata": {},
   "outputs": [],
   "source": [
    "a= np.unique(ydict)\n",
    "b = list(range(0,46))\n",
    "output = dict(zip(b,a))"
   ]
  },
  {
   "cell_type": "code",
   "execution_count": 240,
   "metadata": {},
   "outputs": [
    {
     "data": {
      "text/plain": [
       "0    1700\n",
       "dtype: int64"
      ]
     },
     "execution_count": 240,
     "metadata": {},
     "output_type": "execute_result"
    }
   ],
   "source": [
    "w = pd.DataFrame(ytrain)\n",
    "w[w[0]==0].count()\n"
   ]
  },
  {
   "cell_type": "code",
   "execution_count": 245,
   "metadata": {},
   "outputs": [
    {
     "data": {
      "text/plain": [
       "<matplotlib.image.AxesImage at 0x24b297e2240>"
      ]
     },
     "execution_count": 245,
     "metadata": {},
     "output_type": "execute_result"
    },
    {
     "data": {
      "image/png": "[encoded data removed]",
      "text/plain": [
       "<Figure size 432x288 with 1 Axes>"
      ]
     },
     "metadata": {
      "needs_background": "light"
     },
     "output_type": "display_data"
    }
   ],
   "source": [
    "plt.imshow(xtrain[4],cmap='gray')"
   ]
  },
  {
   "cell_type": "code",
   "execution_count": 166,
   "metadata": {},
   "outputs": [
    {
     "ename": "AttributeError",
     "evalue": "'list' object has no attribute 'reshape'",
     "output_type": "error",
     "traceback": [
      "\u001b[1;31m---------------------------------------------------------------------------\u001b[0m",
      "\u001b[1;31mAttributeError\u001b[0m                            Traceback (most recent call last)",
      "\u001b[1;32m<ipython-input-166-010fa36328dc>\u001b[0m in \u001b[0;36m<module>\u001b[1;34m\u001b[0m\n\u001b[1;32m----> 1\u001b[1;33m \u001b[0mxtrain\u001b[0m \u001b[1;33m=\u001b[0m \u001b[0mxtrain\u001b[0m\u001b[1;33m.\u001b[0m\u001b[0mreshape\u001b[0m\u001b[1;33m(\u001b[0m\u001b[0mxtrain\u001b[0m\u001b[1;33m.\u001b[0m\u001b[0mshape\u001b[0m\u001b[1;33m[\u001b[0m\u001b[1;36m0\u001b[0m\u001b[1;33m]\u001b[0m\u001b[1;33m,\u001b[0m\u001b[1;36m32\u001b[0m\u001b[1;33m,\u001b[0m\u001b[1;36m32\u001b[0m\u001b[1;33m,\u001b[0m\u001b[1;36m1\u001b[0m\u001b[1;33m)\u001b[0m\u001b[1;33m\u001b[0m\u001b[1;33m\u001b[0m\u001b[0m\n\u001b[0m",
      "\u001b[1;31mAttributeError\u001b[0m: 'list' object has no attribute 'reshape'"
     ]
    }
   ],
   "source": []
  },
  {
   "cell_type": "code",
   "execution_count": 247,
   "metadata": {},
   "outputs": [],
   "source": [
    "op = []\n",
    "\n",
    "for i in xtrain:\n",
    "    i=i.flatten()\n",
    "    op.append(i)    \n",
    "\n",
    "xtrain = op\n"
   ]
  },
  {
   "cell_type": "code",
   "execution_count": 246,
   "metadata": {},
   "outputs": [],
   "source": [
    "xtrain,xtest,ytrain,ytest = train_test_split(xtrain,ytrain,test_size=0.05)"
   ]
  },
  {
   "cell_type": "code",
   "execution_count": 248,
   "metadata": {},
   "outputs": [],
   "source": [
    "x = np.array(xtrain)\n",
    "y=keras.utils.to_categorical(np.array(ytrain),46)"
   ]
  },
  {
   "cell_type": "code",
   "execution_count": 249,
   "metadata": {},
   "outputs": [],
   "source": [
    "x=x/255.0"
   ]
  },
  {
   "cell_type": "code",
   "execution_count": 250,
   "metadata": {},
   "outputs": [],
   "source": [
    "x_train=x.reshape(x.shape[0],32,32,1)"
   ]
  },
  {
   "cell_type": "code",
   "execution_count": 304,
   "metadata": {},
   "outputs": [
    {
     "ename": "TypeError",
     "evalue": "'builtin_function_or_method' object is not subscriptable",
     "output_type": "error",
     "traceback": [
      "\u001b[1;31m---------------------------------------------------------------------------\u001b[0m",
      "\u001b[1;31mTypeError\u001b[0m                                 Traceback (most recent call last)",
      "\u001b[1;32m<ipython-input-304-6c5301ce2122>\u001b[0m in \u001b[0;36m<module>\u001b[1;34m\u001b[0m\n\u001b[1;32m----> 1\u001b[1;33m \u001b[0mplt\u001b[0m\u001b[1;33m.\u001b[0m\u001b[0mimshow\u001b[0m\u001b[1;33m(\u001b[0m\u001b[0mtestx\u001b[0m\u001b[1;33m[\u001b[0m\u001b[1;36m0\u001b[0m\u001b[1;33m]\u001b[0m\u001b[1;33m.\u001b[0m\u001b[0mreshape\u001b[0m\u001b[1;33m[\u001b[0m\u001b[1;36m32\u001b[0m\u001b[1;33m,\u001b[0m\u001b[1;36m32\u001b[0m\u001b[1;33m]\u001b[0m\u001b[1;33m,\u001b[0m\u001b[0mcmap\u001b[0m\u001b[1;33m=\u001b[0m\u001b[1;34m'gray'\u001b[0m\u001b[1;33m)\u001b[0m\u001b[1;33m\u001b[0m\u001b[1;33m\u001b[0m\u001b[0m\n\u001b[0m",
      "\u001b[1;31mTypeError\u001b[0m: 'builtin_function_or_method' object is not subscriptable"
     ]
    }
   ],
   "source": [
    "plt.imshow(xtest[80],cmap='gray')"
   ]
  },
  {
   "cell_type": "code",
   "execution_count": 130,
   "metadata": {},
   "outputs": [],
   "source": [
    "from keras.models import Sequential\n",
    "from keras.layers.convolutional import Conv2D\n",
    "from keras.layers.core import Dense,Flatten\n",
    "from keras.layers.pooling import MaxPooling2D\n",
    "from keras.utils import np_utils\n",
    "from keras.optimizers import SGD\n",
    "from keras.layers import Dropout"
   ]
  },
  {
   "cell_type": "code",
   "execution_count": 252,
   "metadata": {},
   "outputs": [],
   "source": [
    "model=Sequential()\n",
    "model.add(Conv2D(filters=16,kernel_size=(3,3),padding='same',input_shape=(32,32,1)))\n",
    "model.add(MaxPooling2D(pool_size=(2,2)))\n",
    "model.add(Conv2D(filters=32,kernel_size=(3,3),padding='valid'))\n",
    "model.add(MaxPooling2D(pool_size=(2,2)))\n",
    "model.add(Flatten())\n",
    "model.add(Dropout(0.2,seed=100))\n",
    "model.add(Dense(160,activation='relu'))\n",
    "model.add(Dense(120,activation='relu'))\n",
    "model.add(Dense(46,activation='softmax'))"
   ]
  },
  {
   "cell_type": "code",
   "execution_count": 253,
   "metadata": {},
   "outputs": [],
   "source": [
    "sgd = SGD(lr=0.01, decay=1e-6, momentum=0.9, nesterov=True)\n",
    "model.compile(loss='categorical_crossentropy',\n",
    "              optimizer=sgd,\n",
    "              metrics=['accuracy'])"
   ]
  },
  {
   "cell_type": "code",
   "execution_count": 254,
   "metadata": {},
   "outputs": [
    {
     "name": "stdout",
     "output_type": "stream",
     "text": [
      "Train on 59432 samples, validate on 14858 samples\n",
      "Epoch 1/20\n",
      "59432/59432 [==============================] - 52s 878us/step - loss: 3.8152 - acc: 0.0373 - val_loss: 3.7715 - val_acc: 0.0738\n",
      "Epoch 2/20\n",
      "59432/59432 [==============================] - 54s 902us/step - loss: 3.6851 - acc: 0.1017 - val_loss: 3.4101 - val_acc: 0.2055\n",
      "Epoch 3/20\n",
      "59432/59432 [==============================] - 59s 989us/step - loss: 2.7917 - acc: 0.2918 - val_loss: 1.8578 - val_acc: 0.5117\n",
      "Epoch 4/20\n",
      "59432/59432 [==============================] - 58s 969us/step - loss: 1.7110 - acc: 0.5282 - val_loss: 1.3354 - val_acc: 0.6396\n",
      "Epoch 5/20\n",
      "59432/59432 [==============================] - 57s 951us/step - loss: 1.3466 - acc: 0.6272 - val_loss: 1.1535 - val_acc: 0.6853\n",
      "Epoch 6/20\n",
      "59432/59432 [==============================] - 58s 979us/step - loss: 1.1708 - acc: 0.6763 - val_loss: 1.0107 - val_acc: 0.7239\n",
      "Epoch 7/20\n",
      "59432/59432 [==============================] - 57s 957us/step - loss: 1.0372 - acc: 0.7109 - val_loss: 0.9040 - val_acc: 0.7534\n",
      "Epoch 8/20\n",
      "59432/59432 [==============================] - 57s 955us/step - loss: 0.9184 - acc: 0.7413 - val_loss: 0.7865 - val_acc: 0.7849\n",
      "Epoch 9/20\n",
      "59432/59432 [==============================] - 55s 925us/step - loss: 0.8109 - acc: 0.7706 - val_loss: 0.6931 - val_acc: 0.8080\n",
      "Epoch 10/20\n",
      "59432/59432 [==============================] - 57s 965us/step - loss: 0.7227 - acc: 0.7936 - val_loss: 0.6117 - val_acc: 0.8280\n",
      "Epoch 11/20\n",
      "59432/59432 [==============================] - 61s 1ms/step - loss: 0.6461 - acc: 0.8131 - val_loss: 0.5483 - val_acc: 0.8461\n",
      "Epoch 12/20\n",
      "59432/59432 [==============================] - 56s 946us/step - loss: 0.5776 - acc: 0.8319 - val_loss: 0.4938 - val_acc: 0.8589\n",
      "Epoch 13/20\n",
      "59432/59432 [==============================] - 56s 936us/step - loss: 0.5241 - acc: 0.8477 - val_loss: 0.4421 - val_acc: 0.8744\n",
      "Epoch 14/20\n",
      "59432/59432 [==============================] - 57s 955us/step - loss: 0.4768 - acc: 0.8610 - val_loss: 0.4087 - val_acc: 0.8842\n",
      "Epoch 15/20\n",
      "59432/59432 [==============================] - 59s 996us/step - loss: 0.4356 - acc: 0.8709 - val_loss: 0.3713 - val_acc: 0.8961\n",
      "Epoch 16/20\n",
      "59432/59432 [==============================] - 59s 999us/step - loss: 0.4013 - acc: 0.8810 - val_loss: 0.3475 - val_acc: 0.9006\n",
      "Epoch 17/20\n",
      "59432/59432 [==============================] - 60s 1ms/step - loss: 0.3686 - acc: 0.8911 - val_loss: 0.3254 - val_acc: 0.9050\n",
      "Epoch 18/20\n",
      "59432/59432 [==============================] - 60s 1ms/step - loss: 0.3459 - acc: 0.8966 - val_loss: 0.3034 - val_acc: 0.9123\n",
      "Epoch 19/20\n",
      "59432/59432 [==============================] - 60s 1ms/step - loss: 0.3236 - acc: 0.9028 - val_loss: 0.2844 - val_acc: 0.9180\n",
      "Epoch 20/20\n",
      "59432/59432 [==============================] - 54s 908us/step - loss: 0.2997 - acc: 0.9103 - val_loss: 0.2688 - val_acc: 0.9220\n"
     ]
    }
   ],
   "source": [
    "history=model.fit(x_train,y,epochs=20,batch_size=2000,validation_split=0.20)"
   ]
  },
  {
   "cell_type": "code",
   "execution_count": null,
   "metadata": {},
   "outputs": [],
   "source": [
    "a= -1\n",
    "c=0\n",
    "for i in xtest:\n",
    "    a = a+1\n",
    "    \n",
    "    \n",
    "    p=model.predict_proba(i.reshape(1,32,32,1))\n",
    "    p = np.argmax(p)\n",
    "    if p == ytest[a]:\n",
    "        c = c+1\n",
    "        \n",
    "per = c/np.shape(xtest)[0]\n",
    "per"
   ]
  },
  {
   "cell_type": "code",
   "execution_count": 263,
   "metadata": {},
   "outputs": [],
   "source": [
    "x_test = pd.read_csv('Test_X.csv')\n"
   ]
  },
  {
   "cell_type": "code",
   "execution_count": 264,
   "metadata": {},
   "outputs": [],
   "source": [
    "testx = np.array(x_test)"
   ]
  },
  {
   "cell_type": "code",
   "execution_count": 265,
   "metadata": {},
   "outputs": [],
   "source": [
    "testx = testx/255.0"
   ]
  },
  {
   "cell_type": "code",
   "execution_count": 261,
   "metadata": {},
   "outputs": [],
   "source": [
    "testx =testx.reshape(testx.shape[0],32,32,1)"
   ]
  },
  {
   "cell_type": "code",
   "execution_count": 266,
   "metadata": {},
   "outputs": [],
   "source": [
    "testy = []\n",
    "for i in testx:\n",
    "    p = model.predict_proba(i.reshape(1,32,32,1))\n",
    "    p = np.argmax(p)\n",
    "    testy.append(p)\n",
    "    "
   ]
  },
  {
   "cell_type": "code",
   "execution_count": 274,
   "metadata": {},
   "outputs": [],
   "source": [
    "f=-1\n",
    "yfinal = []\n",
    "for i in testy:\n",
    "    f=f+1\n",
    "    yfi = output[testy[f]]\n",
    "    yfinal.append(yfi)"
   ]
  },
  {
   "cell_type": "code",
   "execution_count": 278,
   "metadata": {},
   "outputs": [],
   "source": [
    "test_y = pd.DataFrame(yfinal)"
   ]
  },
  {
   "cell_type": "code",
   "execution_count": 299,
   "metadata": {},
   "outputs": [],
   "source": [
    "test_y = test_y.rename(columns={0:'Predictions'})"
   ]
  },
  {
   "cell_type": "code",
   "execution_count": 300,
   "metadata": {},
   "outputs": [
    {
     "data": {
      "text/html": [
       "<div>\n",
       "<style scoped>\n",
       "    .dataframe tbody tr th:only-of-type {\n",
       "        vertical-align: middle;\n",
       "    }\n",
       "\n",
       "    .dataframe tbody tr th {\n",
       "        vertical-align: top;\n",
       "    }\n",
       "\n",
       "    .dataframe thead th {\n",
       "        text-align: right;\n",
       "    }\n",
       "</style>\n",
       "<table border=\"1\" class=\"dataframe\">\n",
       "  <thead>\n",
       "    <tr style=\"text-align: right;\">\n",
       "      <th></th>\n",
       "      <th>Predictions</th>\n",
       "    </tr>\n",
       "  </thead>\n",
       "  <tbody>\n",
       "    <tr>\n",
       "      <th>0</th>\n",
       "      <td>character_11_taamatar</td>\n",
       "    </tr>\n",
       "    <tr>\n",
       "      <th>1</th>\n",
       "      <td>character_8_ja</td>\n",
       "    </tr>\n",
       "    <tr>\n",
       "      <th>2</th>\n",
       "      <td>digit_0</td>\n",
       "    </tr>\n",
       "    <tr>\n",
       "      <th>3</th>\n",
       "      <td>character_17_tha</td>\n",
       "    </tr>\n",
       "    <tr>\n",
       "      <th>4</th>\n",
       "      <td>character_3_ga</td>\n",
       "    </tr>\n",
       "  </tbody>\n",
       "</table>\n",
       "</div>"
      ],
      "text/plain": [
       "             Predictions\n",
       "0  character_11_taamatar\n",
       "1         character_8_ja\n",
       "2                digit_0\n",
       "3       character_17_tha\n",
       "4         character_3_ga"
      ]
     },
     "execution_count": 300,
     "metadata": {},
     "output_type": "execute_result"
    }
   ],
   "source": [
    "test_y.head()"
   ]
  },
  {
   "cell_type": "code",
   "execution_count": 301,
   "metadata": {},
   "outputs": [],
   "source": [
    "test_y.to_csv('pred.csv',index=False)"
   ]
  },
  {
   "cell_type": "code",
   "execution_count": 305,
   "metadata": {},
   "outputs": [
    {
     "data": {
      "text/plain": [
       "(13800, 1024)"
      ]
     },
     "execution_count": 305,
     "metadata": {},
     "output_type": "execute_result"
    }
   ],
   "source": [
    "np.shape(testx)"
   ]
  },
  {
   "cell_type": "code",
   "execution_count": 309,
   "metadata": {},
   "outputs": [
    {
     "data": {
      "text/plain": [
       "numpy.ndarray"
      ]
     },
     "execution_count": 309,
     "metadata": {},
     "output_type": "execute_result"
    }
   ],
   "source": [
    "type(testx)"
   ]
  },
  {
   "cell_type": "code",
   "execution_count": 308,
   "metadata": {},
   "outputs": [],
   "source": [
    "xsh = testx.reshape(testx.shape[0],32,32)"
   ]
  },
  {
   "cell_type": "code",
   "execution_count": 312,
   "metadata": {},
   "outputs": [
    {
     "data": {
      "text/plain": [
       "<matplotlib.image.AxesImage at 0x24b23178fd0>"
      ]
     },
     "execution_count": 312,
     "metadata": {},
     "output_type": "execute_result"
    },
    {
     "data": {
      "image/png": "[encoded data removed]",
      "text/plain": [
       "<Figure size 432x288 with 1 Axes>"
      ]
     },
     "metadata": {
      "needs_background": "light"
     },
     "output_type": "display_data"
    }
   ],
   "source": [
    "plt.imshow(xsh[4],cmap='gray')"
   ]
  },
  {
   "cell_type": "code",
   "execution_count": 286,
   "metadata": {},
   "outputs": [],
   "source": []
  }
 ],
 "metadata": {
  "kernelspec": {
   "display_name": "Python 3",
   "language": "python",
   "name": "python3"
  },
  "language_info": {
   "codemirror_mode": {
    "name": "ipython",
    "version": 3
   },
   "file_extension": ".py",
   "mimetype": "text/x-python",
   "name": "python",
   "nbconvert_exporter": "python",
   "pygments_lexer": "ipython3",
   "version": "3.6.7"
  }
 },
 "nbformat": 4,
 "nbformat_minor": 2
}
